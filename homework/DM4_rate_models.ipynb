{
 "cells": [
  {
   "cell_type": "markdown",
   "metadata": {
    "cell_id": "167a4c57e4fb493a83469a19b2b947ac",
    "deepnote_cell_type": "markdown"
   },
   "source": [
    "# DM4: Résaux de neurones : modèles de taux de décharge\n",
    "\n",
    "Dans le TD, nous avons étudié la dynamique de réseaux de neurones où une *population de neurones* est représentée par son taux de décharge moyen. Les connexions récurrentes entre neurones dans de cette population sont prises en compte via un couplage effectif de la population à elle-même, avec un \"poids\" de connexion $w$ :\n",
    "\n",
    "$$\\frac{dr}{dt} = \\frac{\\Phi(I_{ext}+wr(t)) - r(t)}{\\tau}$$ \n",
    "\n",
    "Nous avons considéré une population inhibitrice ($w<0$) ainsi qu'une population excitratrice ($w>0$).\n",
    "\n",
    "Dans un cas plus générale, on peut considérer plusieurs populations qui peuvent être couplées entre elles par des connexions synaptiques, ce qui rend la dynamique de ces modèles potentiellement très riche, ce qui est déjà le cas si on considère deux populations avec des connexions récurrentes (entre une population est elle-même du coup) et entre les deux populations. \n",
    "\n",
    "Dans ce devoir, nous allons cependant étudier davantage les modèles avec une seule population. Nous avons vu comment un ou plusieurs points fixes apparaissent en fonction des paramètres (le courant externe et le poids de connexion). Quand le système a atteint un point fixe stable, le taux de décharge $r^*$ de la population est donné par le courant total rentrant $I_{\\rm tot} = I_{\\rm ext} + wr^*$, via la fonction de transfert $\\Phi(I)$ :\n",
    "\n",
    "$$r^* = \\Phi(I_{\\rm ext} + w r^*)$$\n",
    "\n",
    "Cette équation ne peut pas être résolu simplement pour calculer $r^*$ ; mais on peut déjà voir que s'il y a des connexions récurrents ($w\\neq0$), le taux de décharge final est différent du taux auquel on s'attendrait uniquement en partant du courant externe, $r^*\\neq\\Phi(I_{\\rm ext})$. Quel est alors la rélation entre le taux de décharge final et la stimulation par un courant externe en présence d'un couplage récurrent ? Dans ce devoir, il s'agit de déterminer la fonction de transfert *effective* qui exprime $r^*$ en fonction de $I_{\\rm ext}$ :\n",
    "\n",
    "$$ r^* = F(I_{\\rm ext}) $$.\n",
    "\n",
    "Pour caractériser $F$, il faut déterminer $r^*$ pour différentes valeurs de $I_{\\rm ext}$, ce qui vous permettra après de tracer $F(I_{\\rm ext}$. \n",
    "\n",
    "## Exercise : Réseau inhibiteur\n",
    "\n",
    "Déterminez le taux de décharge final $r^*$ pour une population inhibitrice avec un poids $w=-1$mV/Hz (`w = -1`), en utilisant la fonction de transfert du TD `fI` avec les paramètres standard (ne modifiez pas `kappa`, `Ihalf`, `rmax`). Plottez $r^*$ en fonction de $I_{\\rm ext}$ pour des valeurs de $I_{\\rm ext}\\in \\{-10,10\\}$ (`Iexts = np.arange(-10,10,0.1)`). Comparez avec la fonction de transfert de la population sans connexions récurrentes, à savoir $r^*=\\Phi(I_{\\rm ext})$.\n",
    "\n",
    "**Indice :** Vous pouvez déterminer $r^*$ de deux façons différentes quand $w\\neq0$ : \n",
    "\n",
    "(1) Intégrez l'évolution du système suffisament longtemps pour que l'état finale soit approximativement atteint (vous pouvez garder $T=5\\tau$, ou `T = 5` avec `tau = 1`, comme dans le TD) et prenez simplement la valeur finale. Dans le cas d'un réseau inhibiteur ($w<0$), le résultat final ne dépendra pas de la condition initiale. \n",
    "\n",
    "(2) Vous pouvez utilisez la méthode de détermination numérique que je vous ai rajouté dans le notebook du TD (nous l'avons pas vu ensemble dans le cours). \n",
    "\n"
   ]
  },
  {
   "cell_type": "code",
   "execution_count": null,
   "metadata": {},
   "outputs": [],
   "source": [
    "# uncomment for interactive plots\n",
    "%matplotlib notebook\n",
    "\n",
    "# comment above and uncomment below for \n",
    "# 'passive' plots (image only)\n",
    "#%matplotlib inline\n",
    "\n",
    "# import necessary modules for numerics and plotting\n",
    "import numpy as np\n",
    "import matplotlib.pyplot as plt"
   ]
  },
  {
   "cell_type": "code",
   "execution_count": null,
   "metadata": {},
   "outputs": [],
   "source": [
    "# Definition of the f-I curve \n",
    "\n",
    "# set standard parameters \n",
    "# --> these will be used as default parameters\n",
    "# in the function definitions\n",
    "rmax = 500.0     # (could be Hz)\n",
    "Ihalf = 10.0   # (could be pA)\n",
    "kappa = 0.2  # (1/unit of current)\n",
    "\n",
    "# f-I curve\n",
    "def fI(I, kappa=kappa, Ihalf=Ihalf, rmax=rmax):\n",
    "    \"\"\"fI(I, kwargs**) returns the population firing rate (in Hz) \n",
    "    for a given input current I (in mV).\"\"\"\n",
    "    return rmax*0.5*(1.0+np.tanh((I-Ihalf)*kappa))"
   ]
  },
  {
   "cell_type": "code",
   "execution_count": null,
   "metadata": {},
   "outputs": [],
   "source": [
    "# définition de la dynamique\n",
    "\n",
    "tau = 1 # setting tau = 1 is equivalent to \n",
    "        # measuring times in units of tau \n",
    "\n",
    "def drdt(r, t=None, w=0, Iext=0):\n",
    "    \"\"\"Returns the derivative of the population firing rate\n",
    "    r as a function of r, time, and the parameters w and Iext.\"\"\"\n",
    "    return (fI(Iext+w*r)-r)/tau"
   ]
  },
  {
   "cell_type": "code",
   "execution_count": null,
   "metadata": {},
   "outputs": [],
   "source": [
    "# votre code"
   ]
  },
  {
   "cell_type": "markdown",
   "metadata": {},
   "source": [
    "## BONUS : Réseau excitateur\n",
    "\n",
    "Répétez l'analyse pour un réseau récurrent avec $w=1$mV/Hz (`w = 1`). \n",
    "\n",
    "**Attention :** Comme il y a deux points fixes stables, le résult final pour $r^*$ dépendra de la condition initiale. \n",
    "\n",
    "Déterminez alors les deux courbes $F$ effectives :\n",
    "\n",
    "1. Pour la première qui décrit l'évolution du point fixe à activité faible, utilisez la condition initiale $r(0)=0$ Hz. \n",
    "\n",
    "2. Pour la deuxième qui décrit l'évolution du point fixe à activité élevée, utilisez la condition initiale $r(0)=500$ Hz. "
   ]
  },
  {
   "cell_type": "code",
   "execution_count": null,
   "metadata": {},
   "outputs": [],
   "source": [
    "# votre code"
   ]
  }
 ],
 "metadata": {
  "deepnote": {},
  "deepnote_execution_queue": [],
  "deepnote_notebook_id": "1fbd16207e8d496eb4bd240e8de59929",
  "kernelspec": {
   "display_name": "Python 3",
   "language": "python",
   "name": "python3"
  },
  "language_info": {
   "codemirror_mode": {
    "name": "ipython",
    "version": 3
   },
   "file_extension": ".py",
   "mimetype": "text/x-python",
   "name": "python",
   "nbconvert_exporter": "python",
   "pygments_lexer": "ipython3",
   "version": "3.7.3"
  }
 },
 "nbformat": 4,
 "nbformat_minor": 1
}
